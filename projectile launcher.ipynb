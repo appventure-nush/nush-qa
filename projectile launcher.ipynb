{
 "cells": [
  {
   "cell_type": "code",
   "execution_count": 1,
   "outputs": [],
   "source": [
    "import numpy as np\n",
    "from scipy import integrate\n",
    "import matplotlib.pyplot as plt"
   ],
   "metadata": {
    "collapsed": false,
    "ExecuteTime": {
     "start_time": "2023-05-16T09:33:27.516628Z",
     "end_time": "2023-05-16T09:33:29.386598Z"
    }
   }
  },
  {
   "cell_type": "markdown",
   "source": [
    "Without air resistance, the x and y coordinates of the ball follow\n",
    "$$\n",
    "\\begin{align}\n",
    "y(t) &= v_i \\sin(\\theta) t - \\frac{1}{2} g t^2 \\\\\n",
    "x(t) &= v_i \\cos(\\theta) t\n",
    "\\end{align}\n",
    "$$\n",
    "\n",
    "Thus, we can express y in terms of x as such:\n",
    "$$\n",
    "\\begin{align}\n",
    "y(t) &= x \\tan(\\theta) - \\frac{g}{2 v_i^2 \\cos^2(\\theta)} x^2 \\\\\n",
    "\\end{align}\n",
    "$$\n",
    "\n",
    "and the range of the projectile as\n",
    "$$\n",
    "d=\\frac{2 v_i^2 \\sin(\\theta) \\cos(\\theta)}{g}=\\frac{v_i ^2 \\sin(2 \\theta)}{g}\n",
    "$$\n",
    "\n",
    "The code below plots this ideal range against some parameters"
   ],
   "metadata": {
    "collapsed": false
   }
  },
  {
   "cell_type": "code",
   "execution_count": null,
   "outputs": [],
   "source": [
    "g = 9.81\n",
    "\n",
    "# range against initial velocity\n",
    "\n",
    "theta = np.pi / 4\n",
    "v_values = np.linspace(0, 10, 50)\n",
    "d_values = np.power(v_values, 2) * np.sin(2 * theta) / g\n",
    "\n",
    "plt.plot(v_values, d_values)\n",
    "plt.show()\n",
    "\n",
    "# range against angle\n",
    "\n",
    "v = 1\n",
    "theta_values = np.linspace(0, np.pi / 2, 50)\n",
    "d_values = np.power(v, 2) * np.sin(2 * theta_values) / g\n",
    "\n",
    "plt.plot(theta_values, d_values)\n",
    "plt.show()"
   ],
   "metadata": {
    "collapsed": false
   }
  },
  {
   "cell_type": "markdown",
   "source": [
    "With air resitance, the equation of motion (vector form) is:\n",
    "$$\n",
    "m\\vec{a} = m\\vec{g} - k|\\vec{v_{rel}}|^2 \\hat{v_{rel}}\n",
    "$$\n",
    "Where $\\vec{v_{rel}}=\\vec{v}-\\vec{v_{wind}}$ is the relative velocity of the ball to the wind\n",
    "\n",
    "Splitting into components and dividing by m:\n",
    "$$\n",
    "\\begin{align}\n",
    "\\ddot{x} &= -\\frac{k}{m} \\left(\\left(\\dot{x}-v_{wind}\\right)^2+\\dot{y}^2\\right) \\frac{\\dot{x}-v_{wind}}{\\sqrt{\\left(\\dot{x}-v_{wind}\\right)^2+\\dot{y}^2}} \\\\\n",
    "\\ddot{y} &= -mg-\\frac{k}{m} \\left(\\left(\\dot{x}-v_{wind}\\right)^2+\\dot{y}^2\\right) \\frac{\\dot{y}}{\\sqrt{\\left(\\dot{x}-v_{wind}\\right)^2+\\dot{y}^2}}\n",
    "\\end{align}\n",
    "$$\n",
    "\n",
    "Note that $m$ and $k$ only appear in the form $\\frac{k}{m}$, so we can redefine $k$ to be $\\frac{k}{m}$:\n",
    "$$\n",
    "\\begin{align}\n",
    "\\ddot{x} &= -k \\left(\\left(\\dot{x}-v_{wind}\\right)^2+\\dot{y}^2\\right) \\frac{\\dot{x}-v_{wind}}{\\sqrt{\\left(\\dot{x}-v_{wind}\\right)^2+\\dot{y}^2}} \\\\\n",
    "\\ddot{y} &= -mg-k \\left(\\left(\\dot{x}-v_{wind}\\right)^2+\\dot{y}^2\\right) \\frac{\\dot{y}}{\\sqrt{\\left(\\dot{x}-v_{wind}\\right)^2+\\dot{y}^2}}\n",
    "\\end{align}\n",
    "$$\n",
    "\n",
    "The code below solves this ODE and plots its solution"
   ],
   "metadata": {
    "collapsed": false
   }
  },
  {
   "cell_type": "code",
   "execution_count": 2,
   "outputs": [],
   "source": [
    "def projectile_launch(t, vec, k, g, v_wind):\n",
    "    x, xp, y, yp = vec\n",
    "    return [\n",
    "        xp,\n",
    "        - k * (xp - v_wind) * np.sqrt(np.power(xp - v_wind, 2) + np.power(yp, 2)),\n",
    "        yp,\n",
    "        - g - k * yp * np.sqrt(np.power(xp - v_wind, 2) + np.power(yp, 2))\n",
    "    ]"
   ],
   "metadata": {
    "collapsed": false,
    "ExecuteTime": {
     "start_time": "2023-05-16T09:33:50.504980Z",
     "end_time": "2023-05-16T09:33:50.542735Z"
    }
   }
  },
  {
   "cell_type": "code",
   "execution_count": null,
   "outputs": [],
   "source": [
    "k = 0.1\n",
    "g = 9.81\n",
    "v_wind = -10\n",
    "\n",
    "v = 100\n",
    "theta = np.pi / 4\n",
    "initial_vec = [0, v * np.cos(theta), 0, v * np.sin(theta)]\n",
    "\n",
    "# solution is stored as an array of x and y values\n",
    "sol_list = [[], []]\n",
    "dt = 0.001\n",
    "\n",
    "# integrating the ode\n",
    "sol = integrate.ode(projectile_launch)\n",
    "sol.set_initial_value(initial_vec, 0).set_f_params(k, g, v_wind)\n",
    "\n",
    "while sol.successful() and sol.y[2] >= 0:\n",
    "    sol_list[0].append(sol.y[0])\n",
    "    sol_list[1].append(sol.y[2])\n",
    "\n",
    "    sol.integrate(sol.t + dt)"
   ],
   "metadata": {
    "collapsed": false
   }
  },
  {
   "cell_type": "code",
   "execution_count": null,
   "outputs": [],
   "source": [
    "plt.plot(sol_list[0], sol_list[1])\n",
    "plt.show()"
   ],
   "metadata": {
    "collapsed": false
   }
  },
  {
   "cell_type": "markdown",
   "source": [
    "Generating data:"
   ],
   "metadata": {
    "collapsed": false
   }
  },
  {
   "cell_type": "code",
   "execution_count": 54,
   "outputs": [],
   "source": [
    "k = 0.1\n",
    "g = 9.81\n",
    "v_wind = 4 + 0.3 * (np.random.random() - 0.5)\n",
    "\n",
    "v = 4 + 0.1 * (np.random.random() - 0.5)\n",
    "theta = 0.25 * np.pi + 0.05 * (np.random.random() - 0.5)\n",
    "initial_vec = [0, v * np.cos(theta), 0, v * np.sin(theta)]\n",
    "\n",
    "# solution is stored as an array of x and y values\n",
    "data = []\n",
    "dt = 0.001\n",
    "num_steps = 1 / 60 / dt\n",
    "n = 0\n",
    "\n",
    "# integrating the ode\n",
    "sol = integrate.ode(projectile_launch)\n",
    "sol.set_initial_value(initial_vec, 0).set_f_params(k, g, v_wind)\n",
    "\n",
    "while sol.successful() and sol.y[2] >= 0:\n",
    "    n += 1\n",
    "    if n >= num_steps:\n",
    "        data.append([sol.t, sol.y[0] + 0.01 * (np.random.random() - 0.5), sol.y[2] + 0.01 * (np.random.random() - 0.5)])\n",
    "        n = 0\n",
    "\n",
    "    sol.integrate(sol.t + dt)\n",
    "\n",
    "with open(\"data/projectile launcher/set14/data3.csv\", \"w\") as f:\n",
    "    np.savetxt(f, data, fmt=\"%.3f\", delimiter=\",\")"
   ],
   "metadata": {
    "collapsed": false,
    "ExecuteTime": {
     "start_time": "2023-05-16T09:54:05.091062Z",
     "end_time": "2023-05-16T09:54:05.107114Z"
    }
   }
  }
 ],
 "metadata": {
  "kernelspec": {
   "display_name": "Python 3",
   "language": "python",
   "name": "python3"
  },
  "language_info": {
   "codemirror_mode": {
    "name": "ipython",
    "version": 2
   },
   "file_extension": ".py",
   "mimetype": "text/x-python",
   "name": "python",
   "nbconvert_exporter": "python",
   "pygments_lexer": "ipython2",
   "version": "2.7.6"
  }
 },
 "nbformat": 4,
 "nbformat_minor": 0
}
