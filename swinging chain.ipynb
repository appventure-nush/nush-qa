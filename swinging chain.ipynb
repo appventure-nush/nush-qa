{
 "cells": [
  {
   "cell_type": "code",
   "execution_count": 93,
   "metadata": {
    "collapsed": true
   },
   "outputs": [],
   "source": [
    "import numpy as np\n",
    "from scipy import integrate, optimize\n",
    "import matplotlib.pyplot as plt"
   ]
  },
  {
   "cell_type": "markdown",
   "source": [
    "For this problem, we will need to consider a differential element of the chain. In the rotating frame, the relevant forces are tension, gravity and the centrifugal force. We will parametrise the shape of the chain, with $x(s)$ representing the vertical coordinate and $r(s)$ representing the radial coordinate, and s representing the distance along the chain.\n",
    "These variables will be related by the constraint $x'(s)^2 + r'(s)^2 = 1$, which means that a differential increase of x and r along the chain equals a differential increase in s. The tension in the chain will then be $T(s)$, with vertical component $T_x(s) = T(s) x'(s)$ and radial component $T_r(s) = T(s) r'(s)$. We will denote the linear mass density of the chain $\\mu$ and its angular velocity about the vertical $\\omega$.\n",
    "\n",
    "Balancing forces along the chain:\n",
    "In x direction: $T_x'(s) = - \\mu\\, g$\n",
    "In r direction: $T_r'(s) = - \\mu\\, \\omega^2\\, r(s)$\n",
    "\n",
    "Solving for $x''(s)$ and $r''(s)$ in terms of $T(s)$ and its derivative, we get:\n",
    "$$\n",
    "\\begin{align}\n",
    "x''(s) &= - \\frac{\\mu\\, g + T'(s)\\, x'(s)}{T(s)} \\\\\n",
    "r''(s) &= - \\frac{\\mu\\, \\omega^2\\, r(s) + T'(s)\\, r'(s)}{T(s)}\n",
    "\\end{align}\n",
    "$$\n",
    "\n",
    "Differentiating the constraint equation, and solving for $T'(s)$:\n",
    "$$\n",
    "\\begin{align}\n",
    "0 &= x'(s) x''(s) + y'(s) y''(s) \\\\\n",
    "\\ &= - \\frac{r'(s) \\left(\\mu\\, \\omega^2\\, r(s) + T'(s)\\, r'(s) \\right) + x'(s) \\left(\\mu\\, g + T'(s)\\, x'(s) \\right)}{T(s)} \\\\\n",
    "\\\\\n",
    "T'(s) &= - \\mu\\, \\omega^2\\, r(s)\\, r'(s) - \\mu\\, g\\, x'(s)\n",
    "\\end{align}\n",
    "$$\n",
    "\n",
    "Substituting this into the expressions for $x''(s)$ and $r''(s)$, we can solve these 3 equations as a system of 5 ODEs as a boundary value problem. The boundary conditions are $x(0) = 0$, $r(0) = 0$, $T(l) = 0$ and $x'(0)$ is free to ensure that the last condition is met. However, we do not have enough boundary conditions for an exact solution. So, we need 1 more.\n",
    "\n",
    "We will do this by integrating the force balance along x:\n",
    "$$\n",
    "\\begin{align}\n",
    "\\int_{0}^{l} T_x'(s)\\, ds &= \\int_{0}^{l} - \\mu\\, g\\, ds \\\\\n",
    "T_x(l) - T_x(0) &= -\\mu\\, g\\, l \\\\\n",
    "T(0)\\,x'(0) &= \\mu\\, g\\, l \\\\\n",
    "T(0) &= \\frac{\\mu\\, g\\, l}{x'(0)}\n",
    "\\end{align}\n",
    "$$\n",
    "\n",
    "Thus, we solve this as a boundary value problem with $x(0) = 0$, $r(0) = 0$, $x'(0)^2 + r'(0)^2 = 1$, $T(0) = \\frac{\\mu\\, g\\, l}{x'(0)}$, $T(l) = 0$"
   ],
   "metadata": {
    "collapsed": false
   }
  },
  {
   "cell_type": "code",
   "execution_count": 89,
   "outputs": [
    {
     "name": "stderr",
     "output_type": "stream",
     "text": [
      "C:\\Users\\kaloo\\AppData\\Local\\Temp\\ipykernel_5432\\3272882904.py:15: RuntimeWarning: divide by zero encountered in divide\n",
      "  - (mu * g + Tp * xp) / T,\n",
      "C:\\Users\\kaloo\\AppData\\Local\\Temp\\ipykernel_5432\\3272882904.py:17: RuntimeWarning: divide by zero encountered in divide\n",
      "  - (mu * np.power(omega, 2) * r + Tp * rp) / T,\n",
      "C:\\Users\\kaloo\\AppData\\Roaming\\Python\\Python39\\site-packages\\scipy\\integrate\\_bvp.py:311: RuntimeWarning: invalid value encountered in add\n",
      "  col_res = y[:, 1:] - y[:, :-1] - h / 6 * (f[:, :-1] + f[:, 1:] +\n",
      "C:\\Users\\kaloo\\AppData\\Roaming\\Python\\Python39\\site-packages\\scipy\\integrate\\_bvp.py:40: RuntimeWarning: invalid value encountered in subtract\n",
      "  df_dy[:, i, :] = (f_new - f0) / hi\n",
      "C:\\Users\\kaloo\\AppData\\Roaming\\Python\\Python39\\site-packages\\scipy\\integrate\\_bvp.py:38: RuntimeWarning: invalid value encountered in subtract\n",
      "  hi = y_new[i] - y[i]\n",
      "C:\\Users\\kaloo\\AppData\\Roaming\\Python\\Python39\\site-packages\\scipy\\integrate\\_bvp.py:566: RuntimeWarning: invalid value encountered in divide\n",
      "  r_middle /= 1 + np.abs(f_middle)\n"
     ]
    }
   ],
   "source": [
    "g = 9.81\n",
    "mu = 0.1\n",
    "omega = 10\n",
    "l = 1\n",
    "\n",
    "epsilon = 10E-5\n",
    "\n",
    "def swinging_chain(s, vec):\n",
    "    x, xp, r, rp, T = vec\n",
    "\n",
    "    Tp = - mu * np.power(omega, 2) * r * rp - mu * g * xp\n",
    "\n",
    "    return [\n",
    "        xp,\n",
    "        - (mu * g + Tp * xp) / T,\n",
    "        rp,\n",
    "        - (mu * np.power(omega, 2) * r + Tp * rp) / T,\n",
    "        Tp\n",
    "    ]\n",
    "\n",
    "def bc(ya, yb):\n",
    "    return [\n",
    "        ya[0],\n",
    "        ya[2],\n",
    "        np.power(ya[1], 2) + np.power(ya[3], 2) - 1,\n",
    "        ya[1] * ya[4] - mu * g * l,\n",
    "        yb[4] - epsilon\n",
    "    ]\n",
    "\n",
    "s_values = np.linspace(0, l, 50)\n",
    "initial_values = np.array([\n",
    "    np.zeros(50),\n",
    "    np.ones(50),\n",
    "    np.zeros(50),\n",
    "    np.zeros(50),\n",
    "    np.concatenate([np.ones(25) * mu * g * l, np.ones(25) * epsilon])\n",
    "])\n",
    "\n",
    "sol = integrate.solve_bvp(swinging_chain, bc, s_values, initial_values)"
   ],
   "metadata": {
    "collapsed": false
   }
  },
  {
   "cell_type": "code",
   "execution_count": 147,
   "outputs": [],
   "source": [
    "def swinging_chain(s, vec, mu, omega, g):\n",
    "    x, xp, r, rp, T = vec\n",
    "\n",
    "    Tp = - mu * np.power(omega, 2) * r * rp - mu * g * xp\n",
    "\n",
    "    return [\n",
    "        xp,\n",
    "        - (mu * g + Tp * xp) / T,\n",
    "        rp,\n",
    "        - (mu * np.power(omega, 2) * r + Tp * rp) / T,\n",
    "        Tp\n",
    "    ]\n",
    "\n",
    "g = 9.81\n",
    "mu = 0.01\n",
    "omega = 40\n",
    "l = 1\n",
    "\n",
    "# xdo_values = np.linspace(0.05, 1, 100)\n",
    "\n",
    "def Tf(xdo):\n",
    "    print(xdo)\n",
    "\n",
    "    sol = integrate.solve_ivp(swinging_chain, [0, l], [0, xdo, 0, np.sqrt(1 - np.power(xdo, 2)), mu * g * l / xdo], args=[mu, omega, g], max_step = 0.005)\n",
    "\n",
    "    return sol.y[4, -1] * sol.y[3, -1]\n",
    "\n",
    "# Tf_values = np.array([Tf(xdo) for xdo in xdo_values])"
   ],
   "metadata": {
    "collapsed": false
   }
  },
  {
   "cell_type": "code",
   "execution_count": 144,
   "outputs": [],
   "source": [
    "sol = optimize.root_scalar(Tf, method=\"secant\", x0=0.1, x1=0.2, bracket=(0.01, 0.9), rtol=0.01)"
   ],
   "metadata": {
    "collapsed": false
   }
  },
  {
   "cell_type": "code",
   "execution_count": 149,
   "outputs": [
    {
     "name": "stdout",
     "output_type": "stream",
     "text": [
      "0.01\n",
      "0.011\n",
      "0.012029284807158556\n",
      "0.01221918163342207\n",
      "0.01898989898989899\n",
      "0.01998989898989899\n",
      "0.0010574750444214823\n",
      "0.019481310905373656\n",
      "0.01899857482908008\n",
      "0.0020718894121218565\n",
      "0.018095510318449633\n",
      "0.01729163283012558\n",
      "0.006998580907323143\n",
      "0.014794064564804131\n",
      "0.013461412530098605\n",
      "0.01184810642730465\n",
      "0.01231840403756432\n",
      "0.02797979797979798\n",
      "0.02897979797979798\n",
      "0.47167123291362306\n",
      "0.4931933739153851\n",
      "0.5359419578083875\n",
      "0.5304017511841039\n",
      "0.03696969696969697\n",
      "0.03796969696969697\n",
      "0.10741460881125632\n",
      "0.10907651970575537\n",
      "0.045959595959595964\n",
      "0.046959595959595965\n",
      "0.09790020529917827\n",
      "0.10661745095530625\n",
      "0.10955289935069802\n",
      "0.054949494949494956\n",
      "0.05594949494949496\n",
      "0.0985925363063614\n",
      "0.10709526506257827\n",
      "0.10958698873257934\n",
      "0.06393939393939393\n",
      "0.06493939393939394\n",
      "0.10119819022436478\n",
      "0.10799490655649693\n",
      "0.10965326768517533\n",
      "0.07292929292929293\n",
      "0.07392929292929293\n",
      "0.10397780687488535\n",
      "0.10877133360918356\n",
      "0.08191919191919192\n",
      "0.08291919191919192\n",
      "0.10639236740224665\n",
      "0.10930094848152862\n",
      "0.09090909090909091\n",
      "0.09190909090909091\n",
      "0.10820234739347746\n",
      "0.10959032196135722\n",
      "0.0998989898989899\n",
      "0.1008989898989899\n",
      "0.1093250083698374\n",
      "0.1088888888888889\n",
      "0.1098888888888889\n",
      "0.11787878787878787\n",
      "0.11887878787878788\n",
      "0.1081432600821969\n",
      "0.10996808890739372\n",
      "0.12686868686868688\n",
      "0.12786868686868688\n",
      "0.10207444404179034\n",
      "0.11178100698480484\n",
      "0.10983697760037446\n",
      "0.13585858585858587\n",
      "0.13685858585858587\n",
      "0.08795063058149839\n",
      "0.11678079225923584\n",
      "0.1108873685266654\n",
      "0.10955915325532317\n",
      "0.14484848484848487\n",
      "0.14584848484848487\n",
      "0.05447782096455566\n",
      "0.1267195473997262\n",
      "0.1160863670613371\n",
      "0.10731914472820928\n",
      "0.10994810409018113\n",
      "0.15383838383838386\n",
      "0.15483838383838386\n",
      "-0.015755282653802834\n",
      "0.14899824713686521\n",
      "0.1435779957876169\n",
      "0.05213706193408366\n",
      "0.12559994972589628\n",
      "0.11568511314227707\n",
      "0.10764581105494221\n",
      "0.10990769186535011\n",
      "0.16282828282828285\n",
      "0.16382828282828285\n",
      "-0.33425441936561734\n",
      "0.13400567932205942\n",
      "0.1129271415422641\n",
      "0.10794146000977788\n",
      "0.10979779329896042\n",
      "0.17181818181818184\n",
      "0.17281818181818184\n",
      "1.484800621883945\n"
     ]
    },
    {
     "name": "stderr",
     "output_type": "stream",
     "text": [
      "C:\\Users\\kaloo\\AppData\\Local\\Temp\\ipykernel_5432\\2589357100.py:24: RuntimeWarning: invalid value encountered in sqrt\n",
      "  sol = integrate.solve_ivp(swinging_chain, [0, l], [0, xdo, 0, np.sqrt(1 - np.power(xdo, 2)), mu * g * l / xdo], args=[mu, omega, g], max_step = 0.005)\n"
     ]
    },
    {
     "ename": "KeyboardInterrupt",
     "evalue": "",
     "output_type": "error",
     "traceback": [
      "\u001B[1;31m---------------------------------------------------------------------------\u001B[0m",
      "\u001B[1;31mKeyboardInterrupt\u001B[0m                         Traceback (most recent call last)",
      "Cell \u001B[1;32mIn[149], line 3\u001B[0m\n\u001B[0;32m      1\u001B[0m initial_values \u001B[38;5;241m=\u001B[39m np\u001B[38;5;241m.\u001B[39mlinspace(\u001B[38;5;241m0.01\u001B[39m, \u001B[38;5;241m0.9\u001B[39m, \u001B[38;5;241m100\u001B[39m)\n\u001B[1;32m----> 3\u001B[0m xdo_sols \u001B[38;5;241m=\u001B[39m [optimize\u001B[38;5;241m.\u001B[39mroot_scalar(Tf, method\u001B[38;5;241m=\u001B[39m\u001B[38;5;124m\"\u001B[39m\u001B[38;5;124msecant\u001B[39m\u001B[38;5;124m\"\u001B[39m, x0\u001B[38;5;241m=\u001B[39mxdo_i, x1\u001B[38;5;241m=\u001B[39mxdo_i \u001B[38;5;241m+\u001B[39m \u001B[38;5;241m0.001\u001B[39m, bracket\u001B[38;5;241m=\u001B[39m(\u001B[38;5;241m0.01\u001B[39m, \u001B[38;5;241m0.9\u001B[39m), rtol\u001B[38;5;241m=\u001B[39m\u001B[38;5;241m0.01\u001B[39m) \u001B[38;5;28;01mfor\u001B[39;00m xdo_i \u001B[38;5;129;01min\u001B[39;00m initial_values]\n\u001B[0;32m      4\u001B[0m \u001B[38;5;28mprint\u001B[39m(xdo_sols)\n",
      "Cell \u001B[1;32mIn[149], line 3\u001B[0m, in \u001B[0;36m<listcomp>\u001B[1;34m(.0)\u001B[0m\n\u001B[0;32m      1\u001B[0m initial_values \u001B[38;5;241m=\u001B[39m np\u001B[38;5;241m.\u001B[39mlinspace(\u001B[38;5;241m0.01\u001B[39m, \u001B[38;5;241m0.9\u001B[39m, \u001B[38;5;241m100\u001B[39m)\n\u001B[1;32m----> 3\u001B[0m xdo_sols \u001B[38;5;241m=\u001B[39m [\u001B[43moptimize\u001B[49m\u001B[38;5;241;43m.\u001B[39;49m\u001B[43mroot_scalar\u001B[49m\u001B[43m(\u001B[49m\u001B[43mTf\u001B[49m\u001B[43m,\u001B[49m\u001B[43m \u001B[49m\u001B[43mmethod\u001B[49m\u001B[38;5;241;43m=\u001B[39;49m\u001B[38;5;124;43m\"\u001B[39;49m\u001B[38;5;124;43msecant\u001B[39;49m\u001B[38;5;124;43m\"\u001B[39;49m\u001B[43m,\u001B[49m\u001B[43m \u001B[49m\u001B[43mx0\u001B[49m\u001B[38;5;241;43m=\u001B[39;49m\u001B[43mxdo_i\u001B[49m\u001B[43m,\u001B[49m\u001B[43m \u001B[49m\u001B[43mx1\u001B[49m\u001B[38;5;241;43m=\u001B[39;49m\u001B[43mxdo_i\u001B[49m\u001B[43m \u001B[49m\u001B[38;5;241;43m+\u001B[39;49m\u001B[43m \u001B[49m\u001B[38;5;241;43m0.001\u001B[39;49m\u001B[43m,\u001B[49m\u001B[43m \u001B[49m\u001B[43mbracket\u001B[49m\u001B[38;5;241;43m=\u001B[39;49m\u001B[43m(\u001B[49m\u001B[38;5;241;43m0.01\u001B[39;49m\u001B[43m,\u001B[49m\u001B[43m \u001B[49m\u001B[38;5;241;43m0.9\u001B[39;49m\u001B[43m)\u001B[49m\u001B[43m,\u001B[49m\u001B[43m \u001B[49m\u001B[43mrtol\u001B[49m\u001B[38;5;241;43m=\u001B[39;49m\u001B[38;5;241;43m0.01\u001B[39;49m\u001B[43m)\u001B[49m \u001B[38;5;28;01mfor\u001B[39;00m xdo_i \u001B[38;5;129;01min\u001B[39;00m initial_values]\n\u001B[0;32m      4\u001B[0m \u001B[38;5;28mprint\u001B[39m(xdo_sols)\n",
      "File \u001B[1;32m~\\AppData\\Roaming\\Python\\Python39\\site-packages\\scipy\\optimize\\_root_scalar.py:257\u001B[0m, in \u001B[0;36mroot_scalar\u001B[1;34m(f, args, method, bracket, fprime, fprime2, x0, x1, xtol, rtol, maxiter, options)\u001B[0m\n\u001B[0;32m    255\u001B[0m     \u001B[38;5;28;01mif\u001B[39;00m \u001B[38;5;124m'\u001B[39m\u001B[38;5;124mxtol\u001B[39m\u001B[38;5;124m'\u001B[39m \u001B[38;5;129;01min\u001B[39;00m kwargs:\n\u001B[0;32m    256\u001B[0m         kwargs[\u001B[38;5;124m'\u001B[39m\u001B[38;5;124mtol\u001B[39m\u001B[38;5;124m'\u001B[39m] \u001B[38;5;241m=\u001B[39m kwargs\u001B[38;5;241m.\u001B[39mpop(\u001B[38;5;124m'\u001B[39m\u001B[38;5;124mxtol\u001B[39m\u001B[38;5;124m'\u001B[39m)\n\u001B[1;32m--> 257\u001B[0m     r, sol \u001B[38;5;241m=\u001B[39m methodc(f, x0, args\u001B[38;5;241m=\u001B[39margs, fprime\u001B[38;5;241m=\u001B[39m\u001B[38;5;28;01mNone\u001B[39;00m, fprime2\u001B[38;5;241m=\u001B[39m\u001B[38;5;28;01mNone\u001B[39;00m,\n\u001B[0;32m    258\u001B[0m                      x1\u001B[38;5;241m=\u001B[39mx1, \u001B[38;5;241m*\u001B[39m\u001B[38;5;241m*\u001B[39mkwargs)\n\u001B[0;32m    259\u001B[0m \u001B[38;5;28;01melif\u001B[39;00m meth \u001B[38;5;129;01min\u001B[39;00m [\u001B[38;5;124m'\u001B[39m\u001B[38;5;124mnewton\u001B[39m\u001B[38;5;124m'\u001B[39m]:\n\u001B[0;32m    260\u001B[0m     \u001B[38;5;28;01mif\u001B[39;00m x0 \u001B[38;5;129;01mis\u001B[39;00m \u001B[38;5;28;01mNone\u001B[39;00m:\n",
      "File \u001B[1;32m~\\AppData\\Roaming\\Python\\Python39\\site-packages\\scipy\\optimize\\zeros.py:355\u001B[0m, in \u001B[0;36mnewton\u001B[1;34m(func, x0, fprime, args, tol, maxiter, fprime2, x1, rtol, full_output, disp)\u001B[0m\n\u001B[0;32m    353\u001B[0m         p0, q0 \u001B[38;5;241m=\u001B[39m p1, q1\n\u001B[0;32m    354\u001B[0m         p1 \u001B[38;5;241m=\u001B[39m p\n\u001B[1;32m--> 355\u001B[0m         q1 \u001B[38;5;241m=\u001B[39m \u001B[43mfunc\u001B[49m\u001B[43m(\u001B[49m\u001B[43mp1\u001B[49m\u001B[43m,\u001B[49m\u001B[43m \u001B[49m\u001B[38;5;241;43m*\u001B[39;49m\u001B[43margs\u001B[49m\u001B[43m)\u001B[49m\n\u001B[0;32m    356\u001B[0m         funcalls \u001B[38;5;241m+\u001B[39m\u001B[38;5;241m=\u001B[39m \u001B[38;5;241m1\u001B[39m\n\u001B[0;32m    358\u001B[0m \u001B[38;5;28;01mif\u001B[39;00m disp:\n",
      "Cell \u001B[1;32mIn[147], line 24\u001B[0m, in \u001B[0;36mTf\u001B[1;34m(xdo)\u001B[0m\n\u001B[0;32m     21\u001B[0m \u001B[38;5;28;01mdef\u001B[39;00m \u001B[38;5;21mTf\u001B[39m(xdo):\n\u001B[0;32m     22\u001B[0m     \u001B[38;5;28mprint\u001B[39m(xdo)\n\u001B[1;32m---> 24\u001B[0m     sol \u001B[38;5;241m=\u001B[39m \u001B[43mintegrate\u001B[49m\u001B[38;5;241;43m.\u001B[39;49m\u001B[43msolve_ivp\u001B[49m\u001B[43m(\u001B[49m\u001B[43mswinging_chain\u001B[49m\u001B[43m,\u001B[49m\u001B[43m \u001B[49m\u001B[43m[\u001B[49m\u001B[38;5;241;43m0\u001B[39;49m\u001B[43m,\u001B[49m\u001B[43m \u001B[49m\u001B[43ml\u001B[49m\u001B[43m]\u001B[49m\u001B[43m,\u001B[49m\u001B[43m \u001B[49m\u001B[43m[\u001B[49m\u001B[38;5;241;43m0\u001B[39;49m\u001B[43m,\u001B[49m\u001B[43m \u001B[49m\u001B[43mxdo\u001B[49m\u001B[43m,\u001B[49m\u001B[43m \u001B[49m\u001B[38;5;241;43m0\u001B[39;49m\u001B[43m,\u001B[49m\u001B[43m \u001B[49m\u001B[43mnp\u001B[49m\u001B[38;5;241;43m.\u001B[39;49m\u001B[43msqrt\u001B[49m\u001B[43m(\u001B[49m\u001B[38;5;241;43m1\u001B[39;49m\u001B[43m \u001B[49m\u001B[38;5;241;43m-\u001B[39;49m\u001B[43m \u001B[49m\u001B[43mnp\u001B[49m\u001B[38;5;241;43m.\u001B[39;49m\u001B[43mpower\u001B[49m\u001B[43m(\u001B[49m\u001B[43mxdo\u001B[49m\u001B[43m,\u001B[49m\u001B[43m \u001B[49m\u001B[38;5;241;43m2\u001B[39;49m\u001B[43m)\u001B[49m\u001B[43m)\u001B[49m\u001B[43m,\u001B[49m\u001B[43m \u001B[49m\u001B[43mmu\u001B[49m\u001B[43m \u001B[49m\u001B[38;5;241;43m*\u001B[39;49m\u001B[43m \u001B[49m\u001B[43mg\u001B[49m\u001B[43m \u001B[49m\u001B[38;5;241;43m*\u001B[39;49m\u001B[43m \u001B[49m\u001B[43ml\u001B[49m\u001B[43m \u001B[49m\u001B[38;5;241;43m/\u001B[39;49m\u001B[43m \u001B[49m\u001B[43mxdo\u001B[49m\u001B[43m]\u001B[49m\u001B[43m,\u001B[49m\u001B[43m \u001B[49m\u001B[43margs\u001B[49m\u001B[38;5;241;43m=\u001B[39;49m\u001B[43m[\u001B[49m\u001B[43mmu\u001B[49m\u001B[43m,\u001B[49m\u001B[43m \u001B[49m\u001B[43momega\u001B[49m\u001B[43m,\u001B[49m\u001B[43m \u001B[49m\u001B[43mg\u001B[49m\u001B[43m]\u001B[49m\u001B[43m,\u001B[49m\u001B[43m \u001B[49m\u001B[43mmax_step\u001B[49m\u001B[43m \u001B[49m\u001B[38;5;241;43m=\u001B[39;49m\u001B[43m \u001B[49m\u001B[38;5;241;43m0.005\u001B[39;49m\u001B[43m)\u001B[49m\n\u001B[0;32m     26\u001B[0m     \u001B[38;5;28;01mreturn\u001B[39;00m sol\u001B[38;5;241m.\u001B[39my[\u001B[38;5;241m4\u001B[39m, \u001B[38;5;241m-\u001B[39m\u001B[38;5;241m1\u001B[39m] \u001B[38;5;241m*\u001B[39m sol\u001B[38;5;241m.\u001B[39my[\u001B[38;5;241m3\u001B[39m, \u001B[38;5;241m-\u001B[39m\u001B[38;5;241m1\u001B[39m]\n",
      "File \u001B[1;32m~\\AppData\\Roaming\\Python\\Python39\\site-packages\\scipy\\integrate\\_ivp\\ivp.py:576\u001B[0m, in \u001B[0;36msolve_ivp\u001B[1;34m(fun, t_span, y0, method, t_eval, dense_output, events, vectorized, args, **options)\u001B[0m\n\u001B[0;32m    574\u001B[0m status \u001B[38;5;241m=\u001B[39m \u001B[38;5;28;01mNone\u001B[39;00m\n\u001B[0;32m    575\u001B[0m \u001B[38;5;28;01mwhile\u001B[39;00m status \u001B[38;5;129;01mis\u001B[39;00m \u001B[38;5;28;01mNone\u001B[39;00m:\n\u001B[1;32m--> 576\u001B[0m     message \u001B[38;5;241m=\u001B[39m \u001B[43msolver\u001B[49m\u001B[38;5;241;43m.\u001B[39;49m\u001B[43mstep\u001B[49m\u001B[43m(\u001B[49m\u001B[43m)\u001B[49m\n\u001B[0;32m    578\u001B[0m     \u001B[38;5;28;01mif\u001B[39;00m solver\u001B[38;5;241m.\u001B[39mstatus \u001B[38;5;241m==\u001B[39m \u001B[38;5;124m'\u001B[39m\u001B[38;5;124mfinished\u001B[39m\u001B[38;5;124m'\u001B[39m:\n\u001B[0;32m    579\u001B[0m         status \u001B[38;5;241m=\u001B[39m \u001B[38;5;241m0\u001B[39m\n",
      "File \u001B[1;32m~\\AppData\\Roaming\\Python\\Python39\\site-packages\\scipy\\integrate\\_ivp\\base.py:181\u001B[0m, in \u001B[0;36mOdeSolver.step\u001B[1;34m(self)\u001B[0m\n\u001B[0;32m    179\u001B[0m \u001B[38;5;28;01melse\u001B[39;00m:\n\u001B[0;32m    180\u001B[0m     t \u001B[38;5;241m=\u001B[39m \u001B[38;5;28mself\u001B[39m\u001B[38;5;241m.\u001B[39mt\n\u001B[1;32m--> 181\u001B[0m     success, message \u001B[38;5;241m=\u001B[39m \u001B[38;5;28;43mself\u001B[39;49m\u001B[38;5;241;43m.\u001B[39;49m\u001B[43m_step_impl\u001B[49m\u001B[43m(\u001B[49m\u001B[43m)\u001B[49m\n\u001B[0;32m    183\u001B[0m     \u001B[38;5;28;01mif\u001B[39;00m \u001B[38;5;129;01mnot\u001B[39;00m success:\n\u001B[0;32m    184\u001B[0m         \u001B[38;5;28mself\u001B[39m\u001B[38;5;241m.\u001B[39mstatus \u001B[38;5;241m=\u001B[39m \u001B[38;5;124m'\u001B[39m\u001B[38;5;124mfailed\u001B[39m\u001B[38;5;124m'\u001B[39m\n",
      "File \u001B[1;32m~\\AppData\\Roaming\\Python\\Python39\\site-packages\\scipy\\integrate\\_ivp\\rk.py:144\u001B[0m, in \u001B[0;36mRungeKutta._step_impl\u001B[1;34m(self)\u001B[0m\n\u001B[0;32m    141\u001B[0m h \u001B[38;5;241m=\u001B[39m t_new \u001B[38;5;241m-\u001B[39m t\n\u001B[0;32m    142\u001B[0m h_abs \u001B[38;5;241m=\u001B[39m np\u001B[38;5;241m.\u001B[39mabs(h)\n\u001B[1;32m--> 144\u001B[0m y_new, f_new \u001B[38;5;241m=\u001B[39m \u001B[43mrk_step\u001B[49m\u001B[43m(\u001B[49m\u001B[38;5;28;43mself\u001B[39;49m\u001B[38;5;241;43m.\u001B[39;49m\u001B[43mfun\u001B[49m\u001B[43m,\u001B[49m\u001B[43m \u001B[49m\u001B[43mt\u001B[49m\u001B[43m,\u001B[49m\u001B[43m \u001B[49m\u001B[43my\u001B[49m\u001B[43m,\u001B[49m\u001B[43m \u001B[49m\u001B[38;5;28;43mself\u001B[39;49m\u001B[38;5;241;43m.\u001B[39;49m\u001B[43mf\u001B[49m\u001B[43m,\u001B[49m\u001B[43m \u001B[49m\u001B[43mh\u001B[49m\u001B[43m,\u001B[49m\u001B[43m \u001B[49m\u001B[38;5;28;43mself\u001B[39;49m\u001B[38;5;241;43m.\u001B[39;49m\u001B[43mA\u001B[49m\u001B[43m,\u001B[49m\n\u001B[0;32m    145\u001B[0m \u001B[43m                       \u001B[49m\u001B[38;5;28;43mself\u001B[39;49m\u001B[38;5;241;43m.\u001B[39;49m\u001B[43mB\u001B[49m\u001B[43m,\u001B[49m\u001B[43m \u001B[49m\u001B[38;5;28;43mself\u001B[39;49m\u001B[38;5;241;43m.\u001B[39;49m\u001B[43mC\u001B[49m\u001B[43m,\u001B[49m\u001B[43m \u001B[49m\u001B[38;5;28;43mself\u001B[39;49m\u001B[38;5;241;43m.\u001B[39;49m\u001B[43mK\u001B[49m\u001B[43m)\u001B[49m\n\u001B[0;32m    146\u001B[0m scale \u001B[38;5;241m=\u001B[39m atol \u001B[38;5;241m+\u001B[39m np\u001B[38;5;241m.\u001B[39mmaximum(np\u001B[38;5;241m.\u001B[39mabs(y), np\u001B[38;5;241m.\u001B[39mabs(y_new)) \u001B[38;5;241m*\u001B[39m rtol\n\u001B[0;32m    147\u001B[0m error_norm \u001B[38;5;241m=\u001B[39m \u001B[38;5;28mself\u001B[39m\u001B[38;5;241m.\u001B[39m_estimate_error_norm(\u001B[38;5;28mself\u001B[39m\u001B[38;5;241m.\u001B[39mK, h, scale)\n",
      "File \u001B[1;32m~\\AppData\\Roaming\\Python\\Python39\\site-packages\\scipy\\integrate\\_ivp\\rk.py:63\u001B[0m, in \u001B[0;36mrk_step\u001B[1;34m(fun, t, y, f, h, A, B, C, K)\u001B[0m\n\u001B[0;32m     61\u001B[0m K[\u001B[38;5;241m0\u001B[39m] \u001B[38;5;241m=\u001B[39m f\n\u001B[0;32m     62\u001B[0m \u001B[38;5;28;01mfor\u001B[39;00m s, (a, c) \u001B[38;5;129;01min\u001B[39;00m \u001B[38;5;28menumerate\u001B[39m(\u001B[38;5;28mzip\u001B[39m(A[\u001B[38;5;241m1\u001B[39m:], C[\u001B[38;5;241m1\u001B[39m:]), start\u001B[38;5;241m=\u001B[39m\u001B[38;5;241m1\u001B[39m):\n\u001B[1;32m---> 63\u001B[0m     dy \u001B[38;5;241m=\u001B[39m \u001B[43mnp\u001B[49m\u001B[38;5;241;43m.\u001B[39;49m\u001B[43mdot\u001B[49m\u001B[43m(\u001B[49m\u001B[43mK\u001B[49m\u001B[43m[\u001B[49m\u001B[43m:\u001B[49m\u001B[43ms\u001B[49m\u001B[43m]\u001B[49m\u001B[38;5;241;43m.\u001B[39;49m\u001B[43mT\u001B[49m\u001B[43m,\u001B[49m\u001B[43m \u001B[49m\u001B[43ma\u001B[49m\u001B[43m[\u001B[49m\u001B[43m:\u001B[49m\u001B[43ms\u001B[49m\u001B[43m]\u001B[49m\u001B[43m)\u001B[49m \u001B[38;5;241m*\u001B[39m h\n\u001B[0;32m     64\u001B[0m     K[s] \u001B[38;5;241m=\u001B[39m fun(t \u001B[38;5;241m+\u001B[39m c \u001B[38;5;241m*\u001B[39m h, y \u001B[38;5;241m+\u001B[39m dy)\n\u001B[0;32m     66\u001B[0m y_new \u001B[38;5;241m=\u001B[39m y \u001B[38;5;241m+\u001B[39m h \u001B[38;5;241m*\u001B[39m np\u001B[38;5;241m.\u001B[39mdot(K[:\u001B[38;5;241m-\u001B[39m\u001B[38;5;241m1\u001B[39m]\u001B[38;5;241m.\u001B[39mT, B)\n",
      "File \u001B[1;32m<__array_function__ internals>:180\u001B[0m, in \u001B[0;36mdot\u001B[1;34m(*args, **kwargs)\u001B[0m\n",
      "\u001B[1;31mKeyboardInterrupt\u001B[0m: "
     ]
    }
   ],
   "source": [
    "initial_values = np.linspace(0.01, 0.9, 100)\n",
    "\n",
    "xdo_sols = [optimize.root_scalar(Tf, method=\"secant\", x0=xdo_i, x1=xdo_i + 0.001, bracket=(0.01, 0.9), rtol=0.01) for xdo_i in initial_values]\n",
    "print(xdo_sols)"
   ],
   "metadata": {
    "collapsed": false
   }
  },
  {
   "cell_type": "code",
   "execution_count": 114,
   "outputs": [
    {
     "data": {
      "text/plain": "<Figure size 640x480 with 1 Axes>",
      "image/png": "[encoded data removed]"
     },
     "metadata": {},
     "output_type": "display_data"
    }
   ],
   "source": [
    "plt.plot(sol.y[2], -sol.y[0])\n",
    "plt.show()"
   ],
   "metadata": {
    "collapsed": false
   }
  },
  {
   "cell_type": "code",
   "execution_count": null,
   "outputs": [],
   "source": [],
   "metadata": {
    "collapsed": false
   }
  }
 ],
 "metadata": {
  "kernelspec": {
   "display_name": "Python 3",
   "language": "python",
   "name": "python3"
  },
  "language_info": {
   "codemirror_mode": {
    "name": "ipython",
    "version": 2
   },
   "file_extension": ".py",
   "mimetype": "text/x-python",
   "name": "python",
   "nbconvert_exporter": "python",
   "pygments_lexer": "ipython2",
   "version": "2.7.6"
  }
 },
 "nbformat": 4,
 "nbformat_minor": 0
}
